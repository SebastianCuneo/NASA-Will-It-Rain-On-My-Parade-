{
  "nbformat": 4,
  "nbformat_minor": 0,
  "metadata": {
    "colab": {
      "provenance": []
    },
    "kernelspec": {
      "name": "python3",
      "display_name": "Python 3"
    },
    "language_info": {
      "name": "python"
    }
  },
  "cells": [
    {
      "cell_type": "code",
      "execution_count": 5,
      "metadata": {
        "colab": {
          "base_uri": "https://localhost:8080/"
        },
        "id": "bOrRG3_cxWC6",
        "outputId": "b4bbf5c3-0f14-43d6-8acc-affceed136b1"
      },
      "outputs": [
        {
          "output_type": "stream",
          "name": "stdout",
          "text": [
            "Columnas temperatura: Index(['fecha', 'estacion', 'temperatura'], dtype='object')\n",
            "Columnas precipitación: Index(['fecha', 'estacion', 'precipitacion'], dtype='object')\n",
            "              datetime fecha_simple   hora               estacion  \\\n",
            "7  2020-01-01 00:00:00   2020-01-01  00:00  Aeropuerto Melilla G3   \n",
            "8  2020-01-01 01:00:00   2020-01-01  01:00  Aeropuerto Melilla G3   \n",
            "9  2020-01-01 02:00:00   2020-01-01  02:00  Aeropuerto Melilla G3   \n",
            "10 2020-01-01 03:00:00   2020-01-01  03:00  Aeropuerto Melilla G3   \n",
            "11 2020-01-01 04:00:00   2020-01-01  04:00  Aeropuerto Melilla G3   \n",
            "12 2020-01-01 05:00:00   2020-01-01  05:00  Aeropuerto Melilla G3   \n",
            "13 2020-01-01 06:00:00   2020-01-01  06:00  Aeropuerto Melilla G3   \n",
            "14 2020-01-01 07:00:00   2020-01-01  07:00  Aeropuerto Melilla G3   \n",
            "15 2020-01-01 08:00:00   2020-01-01  08:00  Aeropuerto Melilla G3   \n",
            "16 2020-01-01 09:00:00   2020-01-01  09:00  Aeropuerto Melilla G3   \n",
            "\n",
            "    temperatura  precipitacion  \n",
            "7          21.3            0.2  \n",
            "8          21.1            0.0  \n",
            "9          21.2            0.0  \n",
            "10         21.0            0.0  \n",
            "11         20.9            0.0  \n",
            "12         20.6            0.0  \n",
            "13         20.5            0.0  \n",
            "14         20.6            0.0  \n",
            "15         20.4            0.0  \n",
            "16         20.3            0.0  \n",
            "CSV combinado guardado en '/content/inumet_temp_prec.csv'\n"
          ]
        }
      ],
      "source": [
        "# 🌡️🌧️ Análisis Climático INUMET - Temperatura y Precipitación (Corregido 100%)\n",
        "# Preparado para Google Colab\n",
        "\n",
        "import pandas as pd\n",
        "import matplotlib.pyplot as plt\n",
        "\n",
        "# -----------------------------\n",
        "# Cargar datasets desde INUMET\n",
        "# -----------------------------\n",
        "url_temp = 'https://catalogodatos.gub.uy/dataset/accd0e24-76be-4101-904b-81bb7d41ee88/resource/f800fc53-556b-4d1c-8bd6-28b41f9cf146/download/inumet_temperatura_del_aire.csv'\n",
        "url_prec = 'https://catalogodatos.gub.uy/dataset/fd896b11-4c04-4807-bae4-5373d65beea2/resource/ca987721-6052-4bb8-8596-2a5ad9630639/download/inumet_precipitacion_acumulada_horaria.csv'\n",
        "\n",
        "# Cargar CSVs\n",
        "temp = pd.read_csv(url_temp, encoding='ISO-8859-1', delimiter=';')\n",
        "prec = pd.read_csv(url_prec, encoding='ISO-8859-1', delimiter=';')\n",
        "\n",
        "# -----------------------------\n",
        "# Limpiar nombres de columnas\n",
        "# -----------------------------\n",
        "temp.columns = temp.columns.str.strip().str.lower()  # quitar espacios y pasar a minúscula\n",
        "prec.columns = prec.columns.str.strip().str.lower()\n",
        "\n",
        "# Renombrar columnas clave según nombre real del CSV\n",
        "temp.rename(columns={'temp_aire':'temperatura', 'estacion_id':'estacion'}, inplace=True)\n",
        "prec.rename(columns={'precip_horario':'precipitacion', 'estacion_id':'estacion'}, inplace=True)\n",
        "\n",
        "# Verificar columnas\n",
        "print('Columnas temperatura:', temp.columns)\n",
        "print('Columnas precipitación:', prec.columns)\n",
        "\n",
        "# -----------------------------\n",
        "# Convertir fechas a datetime\n",
        "# -----------------------------\n",
        "temp['fecha'] = pd.to_datetime(temp['fecha'], errors='coerce')\n",
        "prec['fecha'] = pd.to_datetime(prec['fecha'], errors='coerce') # Changed 'fecha_hora' to 'fecha'\n",
        "\n",
        "\n",
        "# Extraer solo fecha (sin hora) para unir\n",
        "prec['fecha_simple'] = prec['fecha'].dt.date # Added a new column for date only\n",
        "temp['fecha_simple'] = temp['fecha'].dt.date # Added a new column for date only\n",
        "# Extraer solo hora para unir\n",
        "prec['hour'] = prec['fecha'].dt.strftime('%H:%M')\n",
        "# Added a new column for date only\n",
        "temp['hour'] = temp['fecha'].dt.strftime('%H:%M')\n",
        "\n",
        "\n",
        "# -----------------------------\n",
        "# Revisar valores faltantes e imputar\n",
        "# -----------------------------\n",
        "temp['temperatura'] = temp['temperatura'].interpolate()\n",
        "prec['precipitacion'] = prec['precipitacion'].fillna(0)\n",
        "\n",
        "# -----------------------------\n",
        "# Unir datasets por fecha y estación\n",
        "# -----------------------------\n",
        "df_merged = pd.merge(temp, prec, on=['fecha_simple','hour','estacion'], how='inner') # Merging on 'fecha_simple and hour'\n",
        "df_merged= df_merged[['fecha_x','fecha_simple','hour','estacion','temperatura','precipitacion']]\n",
        "df_merged=df_merged.rename(columns={'fecha_x':'datetime','hour':'hora'})\n",
        "df_merged = df_merged.dropna()\n",
        "\n",
        "\n",
        "print(df_merged.head(10))\n",
        "\n",
        "# -----------------------------\n",
        "# Guardar CSV combinado\n",
        "# -----------------------------\n",
        "df_merged.to_csv('/content/inumet_temp_prec.csv', index=False)\n",
        "print(\"CSV combinado guardado en '/content/inumet_temp_prec.csv'\")"
      ]
    },
    {
      "cell_type": "code",
      "source": [
        "from sklearn.model_selection import train_test_split\n",
        "from sklearn.linear_model import LinearRegression\n",
        "\n",
        "# Crear variable objetivo: temperatura siguiente hora\n",
        "df_merged['temp_siguiente'] = df_merged['temperatura'].shift(-1)\n",
        "df_merged.dropna(inplace=True)\n",
        "\n",
        "# Variables predictoras y objetivo\n",
        "X = df_merged[['temperatura', 'precipitacion']]\n",
        "y = df_merged['temp_siguiente']\n",
        "\n",
        "# Separar entrenamiento y prueba\n",
        "X_train, X_test, y_train, y_test = train_test_split(X, y, test_size=0.2, random_state=42)\n",
        "\n",
        "# Modelo\n",
        "modelo = LinearRegression()\n",
        "modelo.fit(X_train, y_train)\n",
        "\n",
        "# Evaluar\n",
        "print(\"R²:\", modelo.score(X_test, y_test))\n",
        "\n",
        "# Predicción de la próxima hora\n",
        "pred = modelo.predict(X_test[:5])\n",
        "print(pred)"
      ],
      "metadata": {
        "id": "C1-e33LA5pcZ"
      },
      "execution_count": null,
      "outputs": []
    },
    {
      "cell_type": "code",
      "source": [
        "from sklearn.ensemble import RandomForestClassifier\n",
        "\n",
        "# Crear variable binaria: lluvia próxima hora\n",
        "df_merged['llueve_proxima'] = (df_merged['precipitacion'].shift(-1) > 0).astype(int)\n",
        "df_merged['llueve_ahora'] = (df_merged['precipitacion'] > 0).astype(int)\n",
        "df_merged.dropna(inplace=True)\n",
        "\n",
        "X = df_merged[['temperatura', 'precipitacion']]\n",
        "y = df_merged['llueve_proxima']\n",
        "\n",
        "X_train, X_test, y_train, y_test = train_test_split(X, y, test_size=0.2, random_state=42)\n",
        "\n",
        "modelo = RandomForestClassifier(n_estimators=100, random_state=42)\n",
        "modelo.fit(X_train, y_train)\n",
        "\n",
        "print(\"Precisión:\", modelo.score(X_test, y_test))"
      ],
      "metadata": {
        "id": "zuZCJFZ06AQj"
      },
      "execution_count": null,
      "outputs": []
    },
    {
      "cell_type": "code",
      "source": [
        "from prophet import Prophet\n",
        "\n",
        "df_prophet = pd.DataFrame({\n",
        "    'ds': df_merged['fecha_x'],\n",
        "    'y': df_merged['temperatura']\n",
        "})\n",
        "\n",
        "modelo = Prophet()\n",
        "modelo.fit(df_prophet)\n",
        "\n",
        "futuro = modelo.make_future_dataframe(periods=24*7, freq='H')  # 7 días adelante\n",
        "pred = modelo.predict(futuro)\n",
        "modelo.plot(pred)"
      ],
      "metadata": {
        "id": "pZtY1XM36DP9"
      },
      "execution_count": null,
      "outputs": []
    },
    {
      "cell_type": "code",
      "source": [
        "url_humedad2020 = 'https://catalogodatos.gub.uy/dataset/ecd6cb6f-67c4-4f2f-8dd7-9155fa10b2f9/resource/2f5009da-5099-4f87-8ac7-2c34fd3195e3/download/inumet_humedad-relativa-2020.csv'\n",
        "\n",
        "hum2020 = pd.read_csv(url_humedad2020,encoding='ISO-8859-1', delimiter=',')\n",
        "\n",
        "#mostrar las primeras filas\n",
        "hum2020.head(10)\n"
      ],
      "metadata": {
        "id": "1tbrmOsP6Glt"
      },
      "execution_count": null,
      "outputs": []
    },
    {
      "cell_type": "code",
      "source": [
        "url_humedad2021 = 'https://catalogodatos.gub.uy/dataset/ecd6cb6f-67c4-4f2f-8dd7-9155fa10b2f9/resource/9d61886b-8232-42af-b91b-684065d412fa/download/inumet_humedad-relativa-2021.csv'\n",
        "\n",
        "hum2021 = pd.read_csv(url_humedad2021,encoding='ISO-8859-1', delimiter=',')\n",
        "\n",
        "#mostrar las primeras filas\n",
        "hum2021.head(10)"
      ],
      "metadata": {
        "id": "BoRh-8Uj6JfB"
      },
      "execution_count": null,
      "outputs": []
    }
  ]
}